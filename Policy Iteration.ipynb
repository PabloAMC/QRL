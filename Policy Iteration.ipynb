{
 "cells": [
  {
   "cell_type": "code",
   "execution_count": 1,
   "metadata": {},
   "outputs": [],
   "source": [
    "import numpy as np\n",
    "import matplotlib.pyplot as plt\n",
    "import sys\n",
    "from gym.envs.toy_text import discrete"
   ]
  },
  {
   "cell_type": "code",
   "execution_count": 2,
   "metadata": {},
   "outputs": [],
   "source": [
    "# Parameters\n",
    "tam = 4\n",
    "UP = 0\n",
    "RIGHT = 1\n",
    "DOWN = 2\n",
    "LEFT = 3"
   ]
  },
  {
   "cell_type": "code",
   "execution_count": 3,
   "metadata": {},
   "outputs": [],
   "source": [
    "# Environment\n",
    "class GridworldEnv(discrete.DiscreteEnv):\n",
    "    \"\"\"\n",
    "    Grid World environment from Sutton's Reinforcement Learning book chapter 4.\n",
    "    You are an agent on an MxN grid and your goal is to reach the terminal\n",
    "    state at the top left or the bottom right corner.\n",
    "    For example, a 4x4 grid looks as follows:\n",
    "    T  o  o  o\n",
    "    o  x  o  o\n",
    "    o  o  o  o\n",
    "    o  o  o  T\n",
    "    x is your position and T are the two terminal states.\n",
    "    You can take actions in each direction (UP=0, RIGHT=1, DOWN=2, LEFT=3).\n",
    "    Actions going off the edge leave you in your current state.\n",
    "    You receive a reward of -1 at each step until you reach a terminal state.\n",
    "    \"\"\"\n",
    "\n",
    "    metadata = {'render.modes': ['human', 'ansi']}\n",
    "\n",
    "    def __init__(self, shape=[4, 4]):\n",
    "        if not isinstance(shape, (list, tuple)) or not len(shape) == 2:\n",
    "            raise ValueError('shape argument must be a list/tuple of length 2')\n",
    "\n",
    "        self.shape = shape\n",
    "\n",
    "        nS = np.prod(shape) # number of states\n",
    "        nA = 4              # number of actions\n",
    "\n",
    "        self.MAX_Y = shape[0]    # shape of the gridworld, x direction\n",
    "        self.MAX_X = shape[1]    # shape of the gridworld, y direction\n",
    "\n",
    "        P = {}              # dictionary of [states] [actions] = ([1.0, next_state, reward, is_done])\n",
    "        self.grid = np.zeros(shape) - 1.0\n",
    "        it = np.nditer(self.grid, flags=['multi_index']) # iteration over array 'grid'\n",
    "        \n",
    "        '''\n",
    "        Numeration of the matrix 4x4 is as follows:\n",
    "        0 1 2 3\n",
    "        4 5 6 7\n",
    "        8 9 10 11\n",
    "        12 23 14 15\n",
    "        '''\n",
    "\n",
    "        while not it.finished:\n",
    "            s = it.iterindex                    # states\n",
    "            y, x = it.multi_index\n",
    "\n",
    "            if s == 0 or s == (nS - 1):\n",
    "                self.grid[y][x] = 0.0\n",
    "\n",
    "            P[s] = {a : [] for a in range(nA)}  # dictionary with info of state, action and reward\n",
    "\n",
    "            is_done = lambda s: s == 0 or s == (nS - 1) #can be modified to include more goals\n",
    "            reward = 1.0 if is_done(s) else 0.0\n",
    "\n",
    "            # We're stuck in a terminal state\n",
    "            if is_done(s):\n",
    "                P[s][UP] = [(1.0, s, reward, True)]\n",
    "                P[s][RIGHT] = [(1.0, s, reward, True)]\n",
    "                P[s][DOWN] = [(1.0, s, reward, True)]\n",
    "                P[s][LEFT] = [(1.0, s, reward, True)]\n",
    "            # Not a terminal state\n",
    "            #else:           #One may want to include some kind of list of goal states to substitute the next four lines.\n",
    "            ns_up = s if y == 0 else s - self.MAX_X # move one full row to the left\n",
    "            ns_right = s if x == (self.MAX_X - 1) else s + 1\n",
    "            ns_down = s if y == (self.MAX_Y - 1) else s + self.MAX_X # move one full row to the right\n",
    "            ns_left = s if x == 0 else s - 1\n",
    "            P[s][UP] = [(1.0, ns_up, reward, False)]\n",
    "            P[s][RIGHT] = [(1.0, ns_right, reward, False)]\n",
    "            P[s][DOWN] = [(1.0, ns_down, reward, False)]\n",
    "            P[s][LEFT] = [(1.0, ns_left, reward, False)]\n",
    "\n",
    "\n",
    "            it.iternext()\n",
    "\n",
    "        # Initial state distribution is uniform\n",
    "        isd = np.zeros(nS)\n",
    "        isd[nS//2] = 1\n",
    "        # We expose the model of the environment for educational purposes\n",
    "        # This should not be used in any model-free learning algorithm\n",
    "        self.P = P\n",
    "\n",
    "        super(GridworldEnv, self).__init__(nS, nA, P, isd)\n",
    "\n",
    "    def _render(self, mode='human', close=False):\n",
    "        if close:\n",
    "            return\n",
    "\n",
    "        outfile = StringIO() if mode == 'ansi' else sys.stdout\n",
    "\n",
    "        self.grid = np.arange(self.nS).reshape(self.shape)\n",
    "        it = np.nditer(self.grid, flags=['multi_index'])\n",
    "        while not it.finished:\n",
    "            s = it.iterindex\n",
    "            y, x = it.multi_index\n",
    "\n",
    "            if self.s == s:\n",
    "                output = \" x \"\n",
    "            elif s == 0 or s == self.nS - 1:\n",
    "                output = \" T \"\n",
    "            else:\n",
    "                output = \" o \"\n",
    "\n",
    "            if x == 0:\n",
    "                output = output.lstrip() \n",
    "            if x == self.shape[1] - 1:\n",
    "                output = output.rstrip()\n",
    "\n",
    "            outfile.write(output)\n",
    "\n",
    "            if x == self.shape[1] - 1:\n",
    "                outfile.write(\"\\n\")\n",
    "\n",
    "            it.iternext()\n",
    "\n",
    "    def gen_features(self, state):\n",
    "\n",
    "        y, x = np.unravel_index(state, self.shape)\n",
    "\n",
    "        features = [np.linalg.norm([np.array((x, y)) - (0, 0)]),\n",
    "                    np.linalg.norm((np.array((x, y)) - np.array((self.MAX_X, self.MAX_Y))))]\n",
    "        return features"
   ]
  },
  {
   "cell_type": "code",
   "execution_count": 4,
   "metadata": {},
   "outputs": [],
   "source": [
    "# Utilities\n",
    "def trans_mat(env):\n",
    "    return (np.array([[np.eye(1, env.nS, env.P[s][a][0][1])[0] for a in range(env.nA)] for s in range(env.nS)]),\n",
    "            np.array([env.P[s][0][0][2] for s in range(env.nS)]))\n",
    "        \n",
    "def policy_iteration(trans_probs, reward, tam, gamma=0.9, epsilon=1e-3):\n",
    "    n_states, n_actions, _ = trans_probs.shape\n",
    "    PI1 = [0 for s in range(n_states)]\n",
    "    R = reward\n",
    "    deltas = []\n",
    "    delta = 10000\n",
    "    k = 0\n",
    "    while delta >= epsilon:\n",
    "        PI = PI1.copy()\n",
    "        delta = 0\n",
    "        P = np.zeros((n_states, n_states))\n",
    "        for i in range(n_states):\n",
    "            P[i] = trans_probs[i,PI[i]]\n",
    "        M = (gamma*P)-np.eye(n_states)\n",
    "        U = np.dot(np.linalg.inv(M),(-R))\n",
    "        \n",
    "        for i in range(n_states):\n",
    "            maxU = -1000\n",
    "            maxPI = 0\n",
    "            for j in range(n_actions):\n",
    "                if j == 0 and i >= tam:\n",
    "                    r = R[i-tam]\n",
    "                elif j == 1 and (i+1)%tam != 0:\n",
    "                    r = R[i+1]\n",
    "                elif j == 2 and i+tam < tam*tam:\n",
    "                    r = R[i+tam]\n",
    "                elif j == 3 and i%tam != 0:\n",
    "                    r = R[i-1]\n",
    "                else:\n",
    "                    r = R[i]\n",
    "                \n",
    "                pa = gamma*np.dot(trans_probs[i,j],U)\n",
    "                par = r + pa\n",
    "                if maxU < par:\n",
    "                    maxU = par\n",
    "                    maxPI = j\n",
    "            \n",
    "            PI1[i] = maxPI\n",
    "            delta = max(delta, abs(PI1[i] - PI[i]))\n",
    "        deltas.append(delta)\n",
    "        k = k+1\n",
    "        \n",
    "    return PI1, deltas, U\n",
    "\n",
    "def expected_utility(a, s, U, trans_probs):\n",
    "    \"\"\"The expected utility of doing a in state s, according to the MDP and U.\"\"\"\n",
    "    return sum([p * U[s1] for s1, p in enumerate(trans_probs[s, a, :])])"
   ]
  },
  {
   "cell_type": "code",
   "execution_count": 5,
   "metadata": {
    "scrolled": false
   },
   "outputs": [
    {
     "name": "stdout",
     "output_type": "stream",
     "text": [
      "[10.    9.    8.1   7.29  9.    8.1   7.29  8.1   8.1   7.29  8.1   9.\n",
      "  7.29  8.1   9.   10.  ]\n",
      "[0, 3, 3, 2, 0, 0, 0, 2, 0, 0, 1, 2, 0, 1, 1, 1]\n"
     ]
    },
    {
     "data": {
      "image/png": "[encoded data removed]",
      "text/plain": [
       "<Figure size 288x288 with 1 Axes>"
      ]
     },
     "metadata": {},
     "output_type": "display_data"
    }
   ],
   "source": [
    "# Policy Iteration\n",
    "if __name__ == '__main__':\n",
    "    grid = GridworldEnv(shape=(tam,tam))\n",
    "    trans_probs, reward = trans_mat(grid)\n",
    "    PI, deltas, U = policy_iteration(trans_probs, reward, tam)\n",
    "    #U = best_policy(trans_probs, PI)\n",
    "    print(U)\n",
    "    print(PI)\n",
    "\n",
    "    def to_mat(u, shape):\n",
    "        dst = np.zeros(shape)\n",
    "        for k in range(len(u)):\n",
    "            dst[k // shape[1], k % shape[1]] = u[k]\n",
    "        return dst\n",
    "\n",
    "    def add_arrow(pi, shape):\n",
    "        for k in range(len(PI)):\n",
    "            if PI[k] == UP:\n",
    "                plt.arrow(k // shape[1], k % shape[1], -0.45, 0, head_width=0.05)\n",
    "            elif PI[k] == RIGHT:\n",
    "                plt.arrow(k // shape[1], k % shape[1], 0, 0.45, head_width=0.05)\n",
    "            elif PI[k] == DOWN:\n",
    "                plt.arrow(k // shape[1], k % shape[1], 0.45, 0, head_width=0.05)\n",
    "            elif PI[k] == LEFT:\n",
    "                plt.arrow(k // shape[1], k % shape[1], 0, -0.45, head_width=0.05)\n",
    "\n",
    "    plt.matshow(to_mat(U, grid.shape))\n",
    "    add_arrow(PI, grid.shape)\n",
    "plt.show()"
   ]
  },
  {
   "cell_type": "code",
   "execution_count": 6,
   "metadata": {},
   "outputs": [
    {
     "data": {
      "text/plain": [
       "[<matplotlib.lines.Line2D at 0x7fbbccf2af60>]"
      ]
     },
     "execution_count": 6,
     "metadata": {},
     "output_type": "execute_result"
    },
    {
     "data": {
      "image/png": "[encoded data removed]",
      "text/plain": [
       "<Figure size 1440x720 with 1 Axes>"
      ]
     },
     "metadata": {},
     "output_type": "display_data"
    }
   ],
   "source": [
    "# Show error reduction\n",
    "plt.figure(figsize=(20, 10))\n",
    "plt.plot(deltas)"
   ]
  },
  {
   "cell_type": "code",
   "execution_count": null,
   "metadata": {},
   "outputs": [],
   "source": []
  }
 ],
 "metadata": {
  "kernelspec": {
   "display_name": "Python 3",
   "language": "python",
   "name": "python3"
  },
  "language_info": {
   "codemirror_mode": {
    "name": "ipython",
    "version": 3
   },
   "file_extension": ".py",
   "mimetype": "text/x-python",
   "name": "python",
   "nbconvert_exporter": "python",
   "pygments_lexer": "ipython3",
   "version": "3.7.3"
  }
 },
 "nbformat": 4,
 "nbformat_minor": 2
}
